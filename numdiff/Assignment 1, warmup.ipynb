{
 "cells": [
  {
   "cell_type": "code",
   "execution_count": 8,
   "metadata": {},
   "outputs": [],
   "source": [
    "#1. initial value problem y' = Ay; y(t_0) = y_0"
   ]
  },
  {
   "cell_type": "code",
   "execution_count": 249,
   "metadata": {},
   "outputs": [],
   "source": [
    "#Import statements\n",
    "import scipy.linalg\n",
    "from scipy.linalg import expm, norm, eigvals, solve\n",
    "import numpy as np\n",
    "import matplotlib.pyplot as plt"
   ]
  },
  {
   "cell_type": "code",
   "execution_count": 412,
   "metadata": {},
   "outputs": [],
   "source": [
    "import scipy\n",
    "import scipy.linalg\n",
    "from scipy.linalg import expm, norm, eigvals, solve\n",
    "import numpy as np \n",
    "import matplotlib\n",
    "import matplotlib.pyplot as plt\n",
    "from scipy.integrate import solve_ivp\n",
    "\n",
    "matplotlib.rcParams['mathtext.fontset'] = 'custom'\n",
    "matplotlib.rcParams['mathtext.rm'] = 'Bitstream Vera Sans'\n",
    "matplotlib.rcParams['mathtext.it'] = 'Bitstream Vera Sans:italic'\n",
    "matplotlib.rcParams['mathtext.bf'] = 'Bitstream Vera Sans:bold'\n",
    "matplotlib.rcParams['mathtext.fontset'] = 'stix'\n",
    "matplotlib.rcParams['font.family'] = 'STIXGeneral'"
   ]
  },
  {
   "cell_type": "code",
   "execution_count": 353,
   "metadata": {},
   "outputs": [],
   "source": [
    "A = np.array([[3]])\n",
    "y0 = 1 \n",
    "t0 = 0\n",
    "tf = 1\n",
    "N = 50\n",
    "t = [t0 + k*(tf-t0)/N for k in range(N)]"
   ]
  },
  {
   "cell_type": "code",
   "execution_count": 314,
   "metadata": {},
   "outputs": [],
   "source": [
    "def eulerstep(A, uold, h):\n",
    "    return uold + h*A.dot(uold)"
   ]
  },
  {
   "cell_type": "code",
   "execution_count": 315,
   "metadata": {},
   "outputs": [
    {
     "data": {
      "text/plain": [
       "array([1.04])"
      ]
     },
     "execution_count": 315,
     "metadata": {},
     "output_type": "execute_result"
    }
   ],
   "source": [
    "eulerstep(A,y0,(tf-t0)/N)"
   ]
  },
  {
   "cell_type": "code",
   "execution_count": 328,
   "metadata": {},
   "outputs": [
    {
     "data": {
      "text/plain": [
       "(1, 1)"
      ]
     },
     "execution_count": 328,
     "metadata": {},
     "output_type": "execute_result"
    }
   ],
   "source": [
    "A.shape"
   ]
  },
  {
   "cell_type": "code",
   "execution_count": 397,
   "metadata": {},
   "outputs": [],
   "source": [
    "def eulerint(A, y0, t0, tf, N):\n",
    "    h = (tf-t0)/N\n",
    "    t = [t0 + k*h for k in range(N)]\n",
    "    ys = [y0]\n",
    "    ys_exact = [y0]\n",
    "    errs = [0]\n",
    "    for i in range(1,N):\n",
    "        ys.append(eulerstep(A, ys[i-1], h))\n",
    "        ys_exact.append(expm(t[i]*A).dot(y0))\n",
    "        error = norm(ys_exact[i]-ys[i])\n",
    "        errs.append(error)\n",
    "    return errs, ys, ys_exact, t\n",
    "\n",
    "def errVSh(A, y0, t0, tf):\n",
    "    Ns = [2**k for k in range(12)]\n",
    "    errors = np.zeros(len(Ns))\n",
    "    for i in range(len(Ns)):\n",
    "        errors[i] = eulerint(A,y0,t0,tf,Ns[i])[0][-1]\n",
    "    plt.semilogy(Ns, errors)\n",
    "        \n",
    "    return errors"
   ]
  },
  {
   "cell_type": "code",
   "execution_count": 395,
   "metadata": {},
   "outputs": [
    {
     "data": {
      "text/plain": [
       "[<matplotlib.lines.Line2D at 0x7ffba985d430>]"
      ]
     },
     "execution_count": 395,
     "metadata": {},
     "output_type": "execute_result"
    },
    {
     "data": {
      "image/png": "[encoded data removed]",
      "text/plain": [
       "<Figure size 432x288 with 1 Axes>"
      ]
     },
     "metadata": {
      "needs_background": "light"
     },
     "output_type": "display_data"
    }
   ],
   "source": [
    "\n",
    "err, ys, ys_exact, t = eulerint(A,y0, t0, tf, N)\n",
    "plt.semilogy(t,err)"
   ]
  },
  {
   "cell_type": "code",
   "execution_count": 398,
   "metadata": {},
   "outputs": [
    {
     "data": {
      "text/plain": [
       "array([0.        , 1.98168907, 4.12836084, 4.51236695, 3.48396624,\n",
       "       2.20164565, 1.2442593 , 0.66243563, 0.34191891, 0.17371763,\n",
       "       0.08755904, 0.04395593])"
      ]
     },
     "execution_count": 398,
     "metadata": {},
     "output_type": "execute_result"
    },
    {
     "data": {
      "image/png": "[encoded data removed]",
      "text/plain": [
       "<Figure size 432x288 with 1 Axes>"
      ]
     },
     "metadata": {
      "needs_background": "light"
     },
     "output_type": "display_data"
    }
   ],
   "source": [
    "errVSh(A,y0,t0,tf)\n"
   ]
  },
  {
   "cell_type": "code",
   "execution_count": 110,
   "metadata": {},
   "outputs": [
    {
     "data": {
      "text/plain": [
       "[<matplotlib.lines.Line2D at 0x7ffbb732b730>]"
      ]
     },
     "execution_count": 110,
     "metadata": {},
     "output_type": "execute_result"
    },
    {
     "data": {
      "image/png": "[encoded data removed]",
      "text/plain": [
       "<Figure size 432x288 with 1 Axes>"
      ]
     },
     "metadata": {
      "needs_background": "light"
     },
     "output_type": "display_data"
    }
   ],
   "source": [
    "plt.plot(t,ys)\n",
    "plt.plot(t,ys_exact)"
   ]
  },
  {
   "cell_type": "code",
   "execution_count": 418,
   "metadata": {
    "scrolled": true
   },
   "outputs": [],
   "source": [
    "A = np.array([[-1,0],[10,-3]])\n",
    "y0 = np.transpose(np.array([[1,1]]) )\n",
    "t0 = 0\n",
    "tf = 10\n",
    "N = 50\n",
    "t = [t0 + k*(tf-t0)/N for k in range(N)]\n",
    "        "
   ]
  },
  {
   "cell_type": "code",
   "execution_count": 409,
   "metadata": {},
   "outputs": [
    {
     "data": {
      "text/plain": [
       "(2, 1)"
      ]
     },
     "execution_count": 409,
     "metadata": {},
     "output_type": "execute_result"
    }
   ],
   "source": [
    "y0.shape"
   ]
  },
  {
   "cell_type": "code",
   "execution_count": 411,
   "metadata": {},
   "outputs": [
    {
     "data": {
      "text/plain": [
       "[<matplotlib.lines.Line2D at 0x7ffbaa0d8a30>]"
      ]
     },
     "execution_count": 411,
     "metadata": {},
     "output_type": "execute_result"
    },
    {
     "data": {
      "image/png": "[encoded data removed]",
      "text/plain": [
       "<Figure size 432x288 with 1 Axes>"
      ]
     },
     "metadata": {
      "needs_background": "light"
     },
     "output_type": "display_data"
    }
   ],
   "source": [
    "\n",
    "err, ys, ys_exact, t = eulerint(A,y0, t0, tf, N)\n",
    "plt.semilogy(t,err)"
   ]
  },
  {
   "cell_type": "code",
   "execution_count": 419,
   "metadata": {},
   "outputs": [],
   "source": [
    "#implicit euler\n",
    "\n",
    "def ieulerstep(A, uold, h):\n",
    "    return solve(np.identity(A.shape[0]) - h*A, uold)\n",
    "    \n",
    "def ieulerint(A, y0, t0, tf, N):\n",
    "    h = (tf-t0)/N\n",
    "    t = [t0 + k*h for k in range(N)]\n",
    "    ys = [y0]\n",
    "    ys_exact = [y0]\n",
    "    errs = [0]\n",
    "    for i in range(1,N):\n",
    "        ys.append(ieulerstep(A, ys[i-1], h))\n",
    "        ys_exact.append(expm(t[i]*A).dot(y0))\n",
    "        error = norm(ys_exact[i]-ys[i])\n",
    "        errs.append(error)\n",
    "    return errs, ys, ys_exact, t\n",
    "\n",
    "def errVSh(A, y0, t0, tf):\n",
    "    Ns = [2**k for k in range(12)]\n",
    "    errors = np.zeros(len(Ns))\n",
    "    for i in range(len(Ns)):\n",
    "        errors[i] = ieulerint(A,y0,t0,tf,Ns[i])[0][-1]\n",
    "    plt.semilogy(Ns, errors)\n",
    "        \n",
    "    return errors"
   ]
  },
  {
   "cell_type": "code",
   "execution_count": 421,
   "metadata": {},
   "outputs": [
    {
     "data": {
      "text/plain": [
       "[<matplotlib.lines.Line2D at 0x7ffbaa1f2820>]"
      ]
     },
     "execution_count": 421,
     "metadata": {},
     "output_type": "execute_result"
    },
    {
     "data": {
      "image/png": "[encoded data removed]",
      "text/plain": [
       "<Figure size 432x288 with 1 Axes>"
      ]
     },
     "metadata": {
      "needs_background": "light"
     },
     "output_type": "display_data"
    }
   ],
   "source": [
    "err, ys, ys_exact, t = eulerint(A,y0, t0, tf, N)\n",
    "plt.semilogy(t,err)"
   ]
  },
  {
   "cell_type": "code",
   "execution_count": null,
   "metadata": {},
   "outputs": [],
   "source": []
  }
 ],
 "metadata": {
  "kernelspec": {
   "display_name": "Python 3",
   "language": "python",
   "name": "python3"
  },
  "language_info": {
   "codemirror_mode": {
    "name": "ipython",
    "version": 3
   },
   "file_extension": ".py",
   "mimetype": "text/x-python",
   "name": "python",
   "nbconvert_exporter": "python",
   "pygments_lexer": "ipython3",
   "version": "3.8.3"
  }
 },
 "nbformat": 4,
 "nbformat_minor": 4
}
