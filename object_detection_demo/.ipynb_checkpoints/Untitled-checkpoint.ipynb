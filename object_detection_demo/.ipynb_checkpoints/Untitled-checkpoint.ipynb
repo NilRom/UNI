{
 "cells": [
  {
   "cell_type": "code",
   "execution_count": 38,
   "id": "0a8b2349",
   "metadata": {},
   "outputs": [
    {
     "name": "stdout",
     "output_type": "stream",
     "text": [
      "Traceback (most recent call last):\r\n",
      "  File \"detect.py\", line 20, in <module>\r\n",
      "    image = Image.open(args['input'])\r\n",
      "  File \"/Users/nils/opt/anaconda3/lib/python3.8/site-packages/PIL/Image.py\", line 2967, in open\r\n",
      "    raise UnidentifiedImageError(\r\n",
      "PIL.UnidentifiedImageError: cannot identify image file 'input/IMG_1305.jpeg'\r\n"
     ]
    }
   ],
   "source": [
    "!python detect.py --input input/IMG_1305.jpeg"
   ]
  }
 ],
 "metadata": {
  "kernelspec": {
   "display_name": "Python 3",
   "language": "python",
   "name": "python3"
  },
  "language_info": {
   "codemirror_mode": {
    "name": "ipython",
    "version": 3
   },
   "file_extension": ".py",
   "mimetype": "text/x-python",
   "name": "python",
   "nbconvert_exporter": "python",
   "pygments_lexer": "ipython3",
   "version": "3.8.10"
  }
 },
 "nbformat": 4,
 "nbformat_minor": 5
}
