{
 "cells": [
  {
   "cell_type": "markdown",
   "id": "059f29ba-fc12-4c2d-8b72-06cda55278b7",
   "metadata": {},
   "source": [
    "\n",
    "\n",
    "---\n",
    "### Task 1:\n",
    "\n",
    "Show that $f$ and $\\iota_{S}$ in (2) are convex and show that constraint qualification (CQ) holds. You are allowed to assume that $relint S \\neq \\emptyset$. Note that $f$ and $\\iota_{S}$ also are closed, but you do not need to prove this.\n",
    "\n",
    "__Solution:__ \n",
    "\n",
    "The Hessian of $f$ is well defined and $\\nabla ^{2} f(x) = Q$. Since $Q\\in\\mathbb{S}_{++}^{n}$, convexity of $f$ follows from the second order condition for convexity.\n",
    "\n",
    "Since $\\iota_S$ is a constant function (hence convex) on its effective domain we need only show that $S$ is a convex set to show that $\\iota_S$ is a convex function. This is shown in expression \\eqref{m1}, where $x,y \\in S$ and $\\theta \\in [0,1]$.\n",
    "\n",
    "\\begin{equation}\n",
    "    a \\leq \\theta x + (1 - \\theta)y \\leq \\theta b + (1 - \\theta)b \\leq b\n",
    "    \\implies \\theta x + (1 - \\theta)y \\in S\n",
    "    \\label{m1}\\tag{1}\n",
    "\\end{equation}\n",
    "\n",
    "Constraint qualification holds since\n",
    "\n",
    "\\begin{equation}\n",
    "    relint (dom \\iota_S) = relint S \\neq \\emptyset\n",
    "\\end{equation}\n",
    "\\begin{equation}\n",
    "    relint (dom f) = \\mathbb{R} ^{n}\n",
    "\\end{equation}\n",
    "\\begin{equation}\n",
    "    \\implies relint (dom \\iota_S) \\cap relint (dom f) \\neq \\emptyset.\n",
    "\\end{equation}"
   ]
  },
  {
   "cell_type": "code",
   "execution_count": null,
   "id": "9f59ab5c-27b8-43ca-a50f-6deae58ba9fa",
   "metadata": {},
   "outputs": [],
   "source": []
  }
 ],
 "metadata": {
  "kernelspec": {
   "display_name": "Python 3 (ipykernel)",
   "language": "python",
   "name": "python3"
  },
  "language_info": {
   "codemirror_mode": {
    "name": "ipython",
    "version": 3
   },
   "file_extension": ".py",
   "mimetype": "text/x-python",
   "name": "python",
   "nbconvert_exporter": "python",
   "pygments_lexer": "ipython3",
   "version": "3.9.12"
  }
 },
 "nbformat": 4,
 "nbformat_minor": 5
}
