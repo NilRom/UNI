{
 "cells": [
  {
   "cell_type": "markdown",
   "id": "404a6cf4",
   "metadata": {},
   "source": [
    "Note that the output of all cells has been cleared in order to reduce the file size. If you wish to reproduce the results in the report, please re-run all cells."
   ]
  },
  {
   "cell_type": "markdown",
   "id": "6d604eee",
   "metadata": {},
   "source": [
    "### Format the data to work with Prophet API"
   ]
  },
  {
   "cell_type": "code",
   "execution_count": null,
   "id": "846e7f33-c36d-4a57-abe2-00f42c9567f6",
   "metadata": {},
   "outputs": [],
   "source": [
    "import pandas as pd\n",
    "from prophet import Prophet\n",
    "import numpy as np\n",
    "df = pd.read_csv('data/projectDataClean.csv')\n",
    "df.head()"
   ]
  },
  {
   "cell_type": "code",
   "execution_count": null,
   "id": "d76a988a-6fca-4094-b164-b870cb5b7c1e",
   "metadata": {},
   "outputs": [],
   "source": [
    "df_train = pd.read_csv('data/train.csv')\n",
    "df_val = pd.read_csv('data/val.csv')\n",
    "df_test = pd.read_csv('data/test.csv')"
   ]
  },
  {
   "cell_type": "code",
   "execution_count": null,
   "id": "23633df7-0f96-4509-bae0-42ab498ec86c",
   "metadata": {},
   "outputs": [],
   "source": [
    "df_train = df_train.rename(columns = {'time' : 'ds'})\n",
    "df_train = df_train.rename(columns = {'t_sla': 'y'})\n",
    "df_val = df_val.rename(columns = {'time' : 'ds'}) \n",
    "df_val = df_val.rename(columns = {'t_sla': 'y'})\n",
    "df_test = df_test.rename(columns = {'time' : 'ds'}) \n",
    "df_test = df_test.rename(columns = {'t_sla': 'y'})\n",
    "df = df.rename(columns = {'t_sla': 'y'})\n",
    "df = df.rename(columns = {'t_sla': 'y'})"
   ]
  },
  {
   "cell_type": "code",
   "execution_count": null,
   "id": "74953327-c63d-4ca1-9adc-c685df5312fc",
   "metadata": {},
   "outputs": [],
   "source": [
    "train_val = pd.concat([df_train,df_val])"
   ]
  },
  {
   "cell_type": "code",
   "execution_count": null,
   "id": "6b74c6bf-39b5-4a05-aebf-a48264f93fae",
   "metadata": {},
   "outputs": [],
   "source": [
    "#Specify Validation Period \n",
    "val_start = train_val.index[train_val['ds'] == df_val.ds[0]].tolist()[0]\n",
    "val_start"
   ]
  },
  {
   "cell_type": "markdown",
   "id": "158d6866",
   "metadata": {},
   "source": [
    "### Make a rolling prediction every 1 hour on the validation data, letting the model firstly fit on all the modeling data"
   ]
  },
  {
   "cell_type": "code",
   "execution_count": null,
   "id": "3849343f-0c0f-4778-8093-a03a9f2b2bc4",
   "metadata": {},
   "outputs": [],
   "source": [
    "from prophet.diagnostics import cross_validation\n",
    "m = Prophet()\n",
    "m.fit(train_val)\n",
    "df_cv = cross_validation(m, initial = str(val_start) + \" hour\" ,period = '1 hour', horizon = '1 hour')"
   ]
  },
  {
   "cell_type": "markdown",
   "id": "eb9cd30c",
   "metadata": {},
   "source": [
    "### Check the variance of prediction residual"
   ]
  },
  {
   "cell_type": "code",
   "execution_count": null,
   "id": "05cb625e-ada0-4bb5-b6da-70b41cca719d",
   "metadata": {},
   "outputs": [],
   "source": [
    "import numpy as np\n",
    "error = df_cv.y - df_cv.yhat\n",
    "np.var(error)"
   ]
  },
  {
   "cell_type": "markdown",
   "id": "e17c68a7",
   "metadata": {},
   "source": [
    "### Make a rolling prediction every one hour on the modeling data"
   ]
  },
  {
   "cell_type": "code",
   "execution_count": null,
   "id": "67fe689d-7b53-4dad-bea0-06fd1c26e64a",
   "metadata": {},
   "outputs": [],
   "source": [
    "from prophet.diagnostics import cross_validation\n",
    "m = Prophet()\n",
    "m.fit(df_train)\n",
    "df_cv = cross_validation(m ,period = '1 hour', horizon = '1 hour')"
   ]
  },
  {
   "cell_type": "markdown",
   "id": "810d013c",
   "metadata": {},
   "source": [
    "### Check the variance of prediction residual"
   ]
  },
  {
   "cell_type": "code",
   "execution_count": null,
   "id": "772d9654-4880-4ba2-a08f-1f5d97a17eb8",
   "metadata": {},
   "outputs": [],
   "source": [
    "error = df_cv.y - df_cv.yhat\n",
    "np.var(error)"
   ]
  },
  {
   "cell_type": "markdown",
   "id": "ab8a1870",
   "metadata": {},
   "source": [
    "### Do the same with a 9 step forecasting horizon"
   ]
  },
  {
   "cell_type": "code",
   "execution_count": null,
   "id": "414a1b51-ab46-4003-8980-1ef684bebbe5",
   "metadata": {},
   "outputs": [],
   "source": [
    "m = Prophet()\n",
    "m.fit(train_val)\n",
    "df_cv = cross_validation(m, initial = str(val_start) + \" hour\" ,period = '1 hour', horizon = '9 hour')"
   ]
  },
  {
   "cell_type": "code",
   "execution_count": null,
   "id": "5fe44577-1033-4f97-ba96-0683029b3b45",
   "metadata": {},
   "outputs": [],
   "source": [
    "error = df_cv.y - df_cv.yhat\n",
    "np.var(error)\n"
   ]
  },
  {
   "cell_type": "code",
   "execution_count": null,
   "id": "7afd2f82",
   "metadata": {},
   "outputs": [],
   "source": [
    "m = Prophet()\n",
    "m.fit(df_train)\n",
    "df_cv = cross_validation(m ,period = '1 hour', horizon = '9 hour')"
   ]
  },
  {
   "cell_type": "code",
   "execution_count": null,
   "id": "18cc3854",
   "metadata": {},
   "outputs": [],
   "source": [
    "error = df_cv.y - df_cv.yhat\n",
    "np.var(error)"
   ]
  },
  {
   "cell_type": "markdown",
   "id": "c7e04f34",
   "metadata": {},
   "source": [
    "### Make some  plots\n",
    "Note that this is not what is done when making a rolling prediction on all data this would be a lengt(data_set)-step prediction. This is why we use the crossvalidate functionality in the prophet API. These cells are only for getting an intuition for how it works."
   ]
  },
  {
   "cell_type": "code",
   "execution_count": null,
   "id": "bb62ff6a-d8d2-480d-b7ac-3ca32d70d80d",
   "metadata": {},
   "outputs": [],
   "source": [
    "fig1 = m.plot(pred, ylabel =\"°C\")\n",
    "plt.title(\"Validation\")\n",
    "plt.savefig('prophet_val.png')"
   ]
  },
  {
   "cell_type": "code",
   "execution_count": null,
   "id": "06d1249b-4bea-441e-bce2-757033f64724",
   "metadata": {},
   "outputs": [],
   "source": [
    "np.var(df_val.y - pred.yhat)"
   ]
  },
  {
   "cell_type": "code",
   "execution_count": null,
   "id": "02caf25c-5293-4e7e-8446-bee6a258b8d1",
   "metadata": {},
   "outputs": [],
   "source": [
    "fig2 = m.plot_components(pred)\n",
    "plt.savefig('figs/prophet_comp_val.png')"
   ]
  },
  {
   "cell_type": "code",
   "execution_count": null,
   "id": "4d16d50f-b0c5-47b2-a308-06fe8220cb6e",
   "metadata": {},
   "outputs": [],
   "source": [
    "pred_test = m.predict(df_test)"
   ]
  },
  {
   "cell_type": "code",
   "execution_count": null,
   "id": "20eb9e90-c701-4a5a-b8e3-667824555f0a",
   "metadata": {},
   "outputs": [],
   "source": [
    "fig2 = m.plot(pred_test, ylabel =\"°C\")\n",
    "plt.title(\"Test\")\n",
    "plt.savefig('figs/prophet_test.png')"
   ]
  },
  {
   "cell_type": "code",
   "execution_count": null,
   "id": "b5f8b6bd-585c-4a96-a4bb-2cdf56ee91ac",
   "metadata": {},
   "outputs": [],
   "source": [
    "fig2 = m.plot_components(pred)\n",
    "plt.savefig('figs/prophet_comp_test.png')"
   ]
  }
 ],
 "metadata": {
  "kernelspec": {
   "display_name": "Python 3 (ipykernel)",
   "language": "python",
   "name": "python3"
  },
  "language_info": {
   "codemirror_mode": {
    "name": "ipython",
    "version": 3
   },
   "file_extension": ".py",
   "mimetype": "text/x-python",
   "name": "python",
   "nbconvert_exporter": "python",
   "pygments_lexer": "ipython3",
   "version": "3.9.13"
  }
 },
 "nbformat": 4,
 "nbformat_minor": 5
}
